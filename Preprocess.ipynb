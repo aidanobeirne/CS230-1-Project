{
 "cells": [
  {
   "cell_type": "markdown",
   "metadata": {
    "collapsed": true
   },
   "source": [
    "import numpy as np\n",
    "import matplotlib.pyplot as plt\n",
    "import matplotlib.style as ms\n",
    "ms.use('seaborn-muted')\n",
    "%matplotlib inline\n",
    "import IPython.display\n",
    "import librosa\n",
    "import librosa.display\n",
    "from __future__ import print_function\n",
    "from pydub import AudioSegment\n",
    "import os\n",
    "import glob\n",
    "import pdb"
   ]
  },
  {
   "cell_type": "code",
   "execution_count": 1,
   "metadata": {
    "scrolled": false
   },
   "outputs": [
    {
     "ename": "NameError",
     "evalue": "name 'librosa' is not defined",
     "output_type": "error",
     "traceback": [
      "\u001b[0;31m---------------------------------------------------------------------------\u001b[0m",
      "\u001b[0;31mNameError\u001b[0m                                 Traceback (most recent call last)",
      "\u001b[0;32m<ipython-input-1-c0f81fce3e26>\u001b[0m in \u001b[0;36m<module>\u001b[0;34m()\u001b[0m\n\u001b[1;32m      1\u001b[0m \u001b[0;31m# Load an example file\u001b[0m\u001b[0;34m\u001b[0m\u001b[0;34m\u001b[0m\u001b[0m\n\u001b[0;32m----> 2\u001b[0;31m \u001b[0maudio_path\u001b[0m \u001b[0;34m=\u001b[0m \u001b[0mlibrosa\u001b[0m\u001b[0;34m.\u001b[0m\u001b[0mutil\u001b[0m\u001b[0;34m.\u001b[0m\u001b[0mexample_audio_file\u001b[0m\u001b[0;34m(\u001b[0m\u001b[0;34m)\u001b[0m\u001b[0;34m\u001b[0m\u001b[0m\n\u001b[0m\u001b[1;32m      3\u001b[0m \u001b[0my\u001b[0m\u001b[0;34m,\u001b[0m \u001b[0msr\u001b[0m \u001b[0;34m=\u001b[0m \u001b[0mlibrosa\u001b[0m\u001b[0;34m.\u001b[0m\u001b[0mload\u001b[0m\u001b[0;34m(\u001b[0m\u001b[0;34m\"/Users/Aidan/Desktop/2018/Winter/DeepLearning/GZTAN/hiphop/hiphop.00055.mp3\"\u001b[0m\u001b[0;34m,\u001b[0m\u001b[0mduration\u001b[0m\u001b[0;34m=\u001b[0m\u001b[0;36m30\u001b[0m\u001b[0;34m)\u001b[0m\u001b[0;34m\u001b[0m\u001b[0m\n\u001b[1;32m      4\u001b[0m \u001b[0;34m\u001b[0m\u001b[0m\n\u001b[1;32m      5\u001b[0m \u001b[0;31m# Make a Mel Spectrogram\u001b[0m\u001b[0;34m\u001b[0m\u001b[0;34m\u001b[0m\u001b[0m\n",
      "\u001b[0;31mNameError\u001b[0m: name 'librosa' is not defined"
     ]
    }
   ],
   "source": [
    "# Load an example file\n",
    "audio_path = librosa.util.example_audio_file()\n",
    "y, sr = librosa.load(\"/Users/Aidan/Desktop/2018/Winter/DeepLearning/GZTAN/hiphop/hiphop.00055.mp3\",duration=30)\n",
    "\n",
    "# Make a Mel Spectrogram\n",
    "S = librosa.feature.melspectrogram(y, sr=sr, n_mels=128)\n",
    "# Convert to log scale (dB). Use the peak power as reference.\n",
    "log_S = librosa.power_to_db(S, ref=np.max)\n",
    "# Make figure\n",
    "plt.figure(figsize=(15,5))\n",
    "# Display the spectrogram on a mel scale, Sample rate and hop length determine the time axis\n",
    "librosa.display.specshow(log_S, sr=sr, x_axis='time', y_axis='mel')\n",
    "plt.title('Mel Spectrogram')\n",
    "plt.colorbar(format='%+02.0f dB')\n",
    "plt.tight_layout()"
   ]
  },
  {
   "cell_type": "code",
   "execution_count": 98,
   "metadata": {
    "collapsed": true
   },
   "outputs": [],
   "source": [
    "#This Block Converts to au to mp3, No need to run after the first time\n",
    "for dir in os.walk('/Users/Aidan/Desktop/2018/Winter/DeepLearning/GZTAN'):\n",
    "    songs = glob.glob(dir[0]+'/*.au')\n",
    "    for song in songs:\n",
    "        sound = AudioSegment.from_file(song)\n",
    "        sound.export(song[:-3]+'.mp3', format=\"mp3\", bitrate=\"128k\")"
   ]
  },
  {
   "cell_type": "code",
   "execution_count": 4,
   "metadata": {
    "collapsed": true
   },
   "outputs": [],
   "source": [
    "# Create label grabber to pull metadata for labels\n",
    "dirs = [x[0] for x in os.walk('/Users/Aidan/Desktop/2018/Winter/DeepLearning/GZTAN/')][1:]\n",
    "labels = next(os.walk('/Users/Aidan/Desktop/2018/Winter/DeepLearning/GZTAN/'))[1]\n",
    "def labelgrabber(song):\n",
    "    a = np.zeros(10)\n",
    "    for label in labels:\n",
    "        if label in song:\n",
    "            a[labels.index(label)] = 1\n",
    "    return a"
   ]
  },
  {
   "cell_type": "code",
   "execution_count": 6,
   "metadata": {},
   "outputs": [
    {
     "name": "stdout",
     "output_type": "stream",
     "text": [
      "0\n",
      "100\n",
      "200\n",
      "300\n",
      "400\n",
      "500\n",
      "600\n",
      "700\n",
      "800\n",
      "900\n"
     ]
    }
   ],
   "source": [
    "# Slice the audio files into slices, generate mel spectrogram, store data & labels \n",
    "nslices = 10\n",
    "X = np.zeros((128**2,1000*nslices)) # CHANGE FIRST DIMENSION BASED ON SAMPLE TIME DURATION/LENGTH\n",
    "Yhat = np.zeros((10,1000*nslices)) # CHANGE BACK to M\n",
    "songs = []\n",
    "for dir in dirs:\n",
    "    songs.extend(glob.glob(dir+'/*.mp3'))\n",
    "for n, song in enumerate(songs):\n",
    "    if n % 100 == 0:\n",
    "        print(songs.index(song)) # Uncomment to track preprocessing progress\n",
    "    y, sr = librosa.load(song, duration = 30)\n",
    "    songslices = []\n",
    "    for i in range(nslices):\n",
    "        songslices.append(y[i*65024:(i+1)*65024])\n",
    "\n",
    "    for n, Slice in enumerate(songslices):\n",
    "        # Make Mel spectrogram\n",
    "        S = librosa.feature.melspectrogram(Slice, sr=sr, n_mels=128)\n",
    "        # Convert to log scale (dB)\n",
    "        log_S = librosa.power_to_db(S, ref=np.max)\n",
    "        X[:,(nslices*songs.index(song) + n)] = log_S.flatten()\n",
    "    Yhat[:,nslices*songs.index(song):nslices*(songs.index(song)+1)] = np.array([labelgrabber(song)]).T\n"
   ]
  },
  {
   "cell_type": "code",
   "execution_count": 7,
   "metadata": {
    "collapsed": true
   },
   "outputs": [],
   "source": [
    "# Shuffle data\n",
    "Shuffle = np.arange(10000)\n",
    "np.random.shuffle(Shuffle)\n",
    "train = Shuffle[:9500]\n",
    "dev = Shuffle[9500:9750]\n",
    "test = Shuffle[9750:]"
   ]
  },
  {
   "cell_type": "code",
   "execution_count": 2,
   "metadata": {},
   "outputs": [
    {
     "ename": "NameError",
     "evalue": "name 'np' is not defined",
     "output_type": "error",
     "traceback": [
      "\u001b[0;31m---------------------------------------------------------------------------\u001b[0m",
      "\u001b[0;31mNameError\u001b[0m                                 Traceback (most recent call last)",
      "\u001b[0;32m<ipython-input-2-b6187c34c428>\u001b[0m in \u001b[0;36m<module>\u001b[0;34m()\u001b[0m\n\u001b[1;32m      1\u001b[0m \u001b[0;31m# Save data to text file\u001b[0m\u001b[0;34m\u001b[0m\u001b[0;34m\u001b[0m\u001b[0m\n\u001b[0;32m----> 2\u001b[0;31m \u001b[0mnp\u001b[0m\u001b[0;34m.\u001b[0m\u001b[0msavetxt\u001b[0m\u001b[0;34m(\u001b[0m\u001b[0;34m'/Users/Aidan/Desktop/2018/Winter/DeepLearning/Main/Xtrain.txt'\u001b[0m\u001b[0;34m,\u001b[0m\u001b[0mX\u001b[0m\u001b[0;34m[\u001b[0m\u001b[0;34m:\u001b[0m\u001b[0;34m,\u001b[0m\u001b[0mtrain\u001b[0m\u001b[0;34m]\u001b[0m\u001b[0;34m)\u001b[0m\u001b[0;34m\u001b[0m\u001b[0m\n\u001b[0m\u001b[1;32m      3\u001b[0m \u001b[0mnp\u001b[0m\u001b[0;34m.\u001b[0m\u001b[0msavetxt\u001b[0m\u001b[0;34m(\u001b[0m\u001b[0;34m'/Users/Aidan/Desktop/2018/Winter/DeepLearning/Main/Xdev.txt'\u001b[0m\u001b[0;34m,\u001b[0m\u001b[0mX\u001b[0m\u001b[0;34m[\u001b[0m\u001b[0;34m:\u001b[0m\u001b[0;34m,\u001b[0m\u001b[0mdev\u001b[0m\u001b[0;34m]\u001b[0m\u001b[0;34m)\u001b[0m\u001b[0;34m\u001b[0m\u001b[0m\n\u001b[1;32m      4\u001b[0m \u001b[0mnp\u001b[0m\u001b[0;34m.\u001b[0m\u001b[0msavetxt\u001b[0m\u001b[0;34m(\u001b[0m\u001b[0;34m'/Users/Aidan/Desktop/2018/Winter/DeepLearning/Main/Xtest.txt'\u001b[0m\u001b[0;34m,\u001b[0m\u001b[0mX\u001b[0m\u001b[0;34m[\u001b[0m\u001b[0;34m:\u001b[0m\u001b[0;34m,\u001b[0m\u001b[0mtest\u001b[0m\u001b[0;34m]\u001b[0m\u001b[0;34m)\u001b[0m\u001b[0;34m\u001b[0m\u001b[0m\n\u001b[1;32m      5\u001b[0m \u001b[0;34m\u001b[0m\u001b[0m\n",
      "\u001b[0;31mNameError\u001b[0m: name 'np' is not defined"
     ]
    }
   ],
   "source": [
    "# Save data to text file\n",
    "'''\n",
    "np.savetxt('/Users/Aidan/Desktop/2018/Winter/DeepLearning/Main/Xtrain.txt',X[:,train])\n",
    "np.savetxt('/Users/Aidan/Desktop/2018/Winter/DeepLearning/Main/Xdev.txt',X[:,dev])\n",
    "np.savetxt('/Users/Aidan/Desktop/2018/Winter/DeepLearning/Main/Xtest.txt',X[:,test])\n",
    "\n",
    "np.savetxt('/Users/Aidan/Desktop/2018/Winter/DeepLearning/Main/Ytrain.txt',Yhat[:,train])\n",
    "np.savetxt('/Users/Aidan/Desktop/2018/Winter/DeepLearning/Main/Ydev.txt',Yhat[:,dev])\n",
    "np.savetxt('/Users/Aidan/Desktop/2018/Winter/DeepLearning/Main/Ytest.txt',Yhat[:,test])\n",
    "'''"
   ]
  }
 ],
 "metadata": {
  "kernelspec": {
   "display_name": "Python [default]",
   "language": "python",
   "name": "python3"
  }
 },
 "nbformat": 4,
 "nbformat_minor": 2
}
