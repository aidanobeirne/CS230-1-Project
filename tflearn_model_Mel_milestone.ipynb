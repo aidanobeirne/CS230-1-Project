{
 "cells": [
  {
   "cell_type": "code",
   "execution_count": null,
   "metadata": {
    "collapsed": true
   },
   "outputs": [],
   "source": [
    "from __future__ import division, print_function, absolute_import\n",
    "\n",
    "import tflearn\n",
    "from tflearn.layers.core import input_data, dropout, fully_connected\n",
    "from tflearn.layers.conv import conv_2d, max_pool_2d\n",
    "from tflearn.layers.normalization import local_response_normalization\n",
    "from tflearn.layers.estimator import regression\n",
    "\n",
    "import numpy as np\n",
    "import pdb\n",
    "import os\n"
   ]
  },
  {
   "cell_type": "code",
   "execution_count": 2,
   "metadata": {
    "collapsed": true
   },
   "outputs": [],
   "source": [
    "# Data loading and preprocessing\n",
    "X = np.genfromtxt('Xtrain.txt').T\n",
    "X = X.reshape([-1, 128, 128, 1])\n",
    "Y = np.genfromtxt('Ytrain.txt').T\n",
    "Y = Y.reshape([-1,10])\n",
    "testX = np.genfromtxt('Xdev.txt').T\n",
    "testX = testX.reshape([-1, 128, 128, 1])\n",
    "testY = np.genfromtxt('Ydev.txt').T\n",
    "testY = testY.reshape([-1,10])"
   ]
  },
  {
   "cell_type": "code",
   "execution_count": 3,
   "metadata": {
    "scrolled": true
   },
   "outputs": [
    {
     "name": "stdout",
     "output_type": "stream",
     "text": [
      "WARNING:tensorflow:From /home/ubuntu/anaconda3/lib/python3.6/site-packages/tflearn/objectives.py:66: calling reduce_sum (from tensorflow.python.ops.math_ops) with keep_dims is deprecated and will be removed in a future version.\n",
      "Instructions for updating:\n",
      "keep_dims is deprecated, use keepdims instead\n"
     ]
    }
   ],
   "source": [
    "#Conv Layer Parameters\n",
    "keep_prob = 1\n",
    "filter_depth = [64,128,256,512]\n",
    "filter_sizes = [2 , 2,  2,  2]\n",
    "fully_connected_size = 512\n",
    "activation = 'elu'\n",
    "regularizer = 'L2'\n",
    "weights_init = \"Xavier\"\n",
    "weight_decay = 0.0001\n",
    "MaxPoolLayer = ['True','True','True','True']\n",
    "MaxPoolSize  = [2, 2, 2, 2]\n",
    "# Building convolutional network\n",
    "network = input_data(shape=[None, 128, 128, 1], name='input')\n",
    "\n",
    "#Convolutional Layers\n",
    "for i in range(len(filter_sizes)):\n",
    "    network = conv_2d(network, filter_depth[i], filter_sizes[i], strides=2, activation=activation, weights_init=weights_init, regularizer=regularizer, weight_decay=weight_decay)\n",
    "    network = max_pool_2d(network, MaxPoolSize[i])\n",
    "    network = dropout(network, keep_prob)\n",
    "    #network = local_response_normalization(network)\n",
    "#Fully Connected Layer\n",
    "network = fully_connected(network, 1024, activation='elu')\n",
    "network = dropout(network, keep_prob)\n",
    "#Output Layer\n",
    "network = fully_connected(network, 10, activation='softmax')\n",
    "network = regression(network, optimizer='adam', learning_rate=0.001, loss='categorical_crossentropy', name='target')"
   ]
  },
  {
   "cell_type": "code",
   "execution_count": 4,
   "metadata": {
    "scrolled": false
   },
   "outputs": [
    {
     "name": "stdout",
     "output_type": "stream",
     "text": [
      "Training Step: 949  | total loss: \u001b[1m\u001b[32m0.14909\u001b[0m\u001b[0m | time: 64.337s\n",
      "| Adam | epoch: 025 | loss: 0.14909 - acc: 0.9509 -- iter: 9472/9500\n",
      "Training Step: 950  | total loss: \u001b[1m\u001b[32m0.14406\u001b[0m\u001b[0m | time: 67.155s\n",
      "| Adam | epoch: 025 | loss: 0.14406 - acc: 0.9507 | val_loss: 0.78393 - val_acc: 0.7760 -- iter: 9500/9500\n",
      "--\n",
      "INFO:tensorflow:/home/ubuntu/BaseModel1.tflearn is not in all_model_checkpoint_paths. Manually adding it.\n"
     ]
    }
   ],
   "source": [
    "# Training\n",
    "model = tflearn.DNN(network, tensorboard_verbose=0, tensorboard_dir='/home/ubuntu/logs/', best_checkpoint_path='/home/ubuntu/logs/')\n",
    "model.fit({'input': X}, {'target': Y}, n_epoch=25, validation_set=({'input': testX}, {'target': testY}), batch_size = 256, snapshot_step=100, snapshot_epoch=True, show_metric=True, run_id='Model1')\n",
    "model.save(\"BaseModel1.tflearn\")"
   ]
  }
 ],
 "metadata": {
  "kernelspec": {
   "display_name": "Python 2",
   "language": "python",
   "name": "python2"
  },
  "language_info": {
   "codemirror_mode": {
    "name": "ipython",
    "version": 3
   },
   "file_extension": ".py",
   "mimetype": "text/x-python",
   "name": "python",
   "nbconvert_exporter": "python",
   "pygments_lexer": "ipython3",
   "version": "3.6.3"
  }
 },
 "nbformat": 4,
 "nbformat_minor": 2
}
